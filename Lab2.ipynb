{
 "cells": [
  {
   "cell_type": "markdown",
   "metadata": {},
   "source": [
    "# Лабораторная работа №2 Белоцкий Дмитрий"
   ]
  },
  {
   "cell_type": "markdown",
   "metadata": {},
   "source": [
    "# Задание 1."
   ]
  },
  {
   "cell_type": "code",
   "execution_count": 3,
   "metadata": {},
   "outputs": [
    {
     "name": "stdout",
     "output_type": "stream",
     "text": [
      "A:\n",
      "[[1.         0.14333669 0.13628734 0.11681772]\n",
      " [0.         1.         0.04596104 0.07543932]\n",
      " [0.         0.         1.         0.04157219]\n",
      " [0.         0.         0.         1.        ]]\n",
      "f:  [0.11446794 0.2077652  0.02235267 0.09635553]\n",
      "X  [0.07209386 0.19965296 0.01834696 0.09635553]\n"
     ]
    }
   ],
   "source": [
    "#Метод Гаусса\n",
    "import numpy as np\n",
    "\n",
    "\n",
    "def gauss_method(A, f, n):\n",
    "    # прямой ход\n",
    "    for i in range(0, n):\n",
    "        if A[i][i] != 0:\n",
    "            temp = A[i][i]\n",
    "            for j in range(i, n):\n",
    "                A[i][j] /= temp\n",
    "            f[i] /= temp\n",
    "            for I in range(i+1, n):\n",
    "                temp = A[I][i]\n",
    "                for j in range(i, n):\n",
    "                    A[I][j] -= A[i][j]*temp\n",
    "                f[I] -= f[i]*temp\n",
    "    # обратный ход\n",
    "    x = np.array(f)\n",
    "    for i in range(n-1, -1, -1):\n",
    "        for j in range(i+1, n):\n",
    "            x[i] -= A[i][j]*x[j]\n",
    "    print(\"A:\\n\"+str(A))\n",
    "    print(\"f:  \"+str(f))\n",
    "    return x\n",
    "\n",
    "\n",
    "if __name__ == '__main__':\n",
    "    A = np.array([[2.979, 0.427, 0.406, 0.348],\n",
    "                 [0.273, 3.951, 0.217, 0.327],\n",
    "                 [0.318, 0.197, 2.875, 0.166],\n",
    "                 [0.219, 0.231, 0.187, 3.276]])\n",
    "    f = np.array([0.341, 0.844, 0.131, 0.381])\n",
    "    n = 4\n",
    "    x = gauss_method(A, f, n)\n",
    "    '''\n",
    "    print(\"Результат прямого хода метода Гаусса: \")\n",
    "    for i in range(n):\n",
    "        for j in A[i]:\n",
    "            print(\"%.8f\" % (j), end = \" \")\n",
    "        print('|', float('{:.8f}'.format(f[i])))\n",
    "    print(\"Решение системы: \", x)\n",
    "    '''\n",
    "    print(\"X  \" + str(x))"
   ]
  },
  {
   "cell_type": "code",
   "execution_count": 2,
   "metadata": {},
   "outputs": [
    {
     "name": "stdout",
     "output_type": "stream",
     "text": [
      "[[1. 0. 0. 0.]\n",
      " [0. 1. 0. 0.]\n",
      " [0. 0. 1. 0.]\n",
      " [0. 0. 0. 1.]]\n",
      "[0.07209386 0.19965296 0.01834696 0.09635553]\n"
     ]
    }
   ],
   "source": [
    "#Метод Гаусса-Жордана\n",
    "import numpy as np\n",
    "\n",
    "\n",
    "def gauss_jordan_method(A, f, n):\n",
    "    # прямой ход\n",
    "    for i in range(0, n):\n",
    "        if A[i][i] != 0:\n",
    "            temp = A[i][i]\n",
    "            for j in range(i, n):\n",
    "                A[i][j] /= temp\n",
    "            f[i] /= temp\n",
    "            for I in range(i+1, n):\n",
    "                temp = A[I][i]\n",
    "                for j in range(i, n):\n",
    "                    A[I][j] -= A[i][j]*temp\n",
    "                f[I] -= f[i]*temp\n",
    "    # обратный ход\n",
    "    for i in range(n-1, -1, -1):\n",
    "        for j in range(i+1, n):\n",
    "            f[i] -= A[i][j]*f[j]\n",
    "            A[i][j] = 0\n",
    "    print(A)\n",
    "    print(f)\n",
    "\n",
    "\n",
    "if __name__ == '__main__':\n",
    "    A = np.array([[2.979, 0.427, 0.406, 0.348],\n",
    "                 [0.273, 3.951, 0.217, 0.327],\n",
    "                 [0.318, 0.197, 2.875, 0.166],\n",
    "                 [0.219, 0.231, 0.187, 3.276]])\n",
    "    f = np.array([0.341, 0.844, 0.131, 0.381])\n",
    "    n = 4\n",
    "    gauss_jordan_method(A, f, n)"
   ]
  },
  {
   "cell_type": "code",
   "execution_count": 8,
   "metadata": {},
   "outputs": [
    {
     "name": "stdout",
     "output_type": "stream",
     "text": [
      "[0.07209383 0.19965294 0.01834694 0.09635552]\n",
      "13 iterations\n"
     ]
    }
   ],
   "source": [
    "#метод Якоби\n",
    "import numpy as np\n",
    "\n",
    "\n",
    "def jacobi_method(A, f, n):\n",
    "    A_1 = np.zeros((n, n))\n",
    "    A_2 = np.zeros((n, n))\n",
    "    D = np.zeros((n, n))\n",
    "    for i in range(n):\n",
    "        for j in range(n):\n",
    "            if i - j > 0:\n",
    "                A_1[i][j] = A[i][j]\n",
    "            elif i - j < 0:\n",
    "                A_2[i][j] = A[i][j]\n",
    "            else:\n",
    "                D[i][j] = A[i][j]\n",
    "    x = np.ones(n)\n",
    "    e = 1\n",
    "    iterations = 0\n",
    "    while e > 1e-3:\n",
    "        x_next = -np.dot(np.dot(np.linalg.inv(D), A_1), x) - np.dot(np.dot(np.linalg.inv(D), A_2), x) + np.dot(np.linalg.inv(D), f)\n",
    "        e = np.sqrt(np.abs(np.sum(x_next-x)))\n",
    "        x = x_next\n",
    "        iterations += 1\n",
    "    return x, iterations\n",
    "\n",
    "\n",
    "if __name__ == '__main__':\n",
    "    A = np.array([[2.979, 0.427, 0.406, 0.348],\n",
    "                 [0.273, 3.951, 0.217, 0.327],\n",
    "                 [0.318, 0.197, 2.875, 0.166],\n",
    "                 [0.219, 0.231, 0.187, 3.276]])\n",
    "    f = np.array([0.341, 0.844, 0.131, 0.381])\n",
    "    n = 4\n",
    "    x, iterations = jacobi_method(A, f, n)\n",
    "    print(x)\n",
    "    print(str(iterations) +  ' iterations')"
   ]
  },
  {
   "cell_type": "code",
   "execution_count": 7,
   "metadata": {},
   "outputs": [
    {
     "name": "stdout",
     "output_type": "stream",
     "text": [
      "[0.07209386 0.19965296 0.01834696 0.09635553]\n",
      "7 iterations\n"
     ]
    }
   ],
   "source": [
    "#метод Зейделя\n",
    "import numpy as np\n",
    "\n",
    "\n",
    "def zeidel_method(A, f, n):\n",
    "    A_1 = np.zeros((n, n))\n",
    "    A_2 = np.zeros((n, n))\n",
    "    D = np.zeros((n, n))\n",
    "    for i in range(n):\n",
    "        for j in range(n):\n",
    "            if i - j > 0:\n",
    "                A_1[i][j] = A[i][j]\n",
    "            elif i - j < 0:\n",
    "                A_2[i][j] = A[i][j]\n",
    "            else:\n",
    "                D[i][j] = A[i][j]\n",
    "    x = np.ones(n)\n",
    "    e = 1\n",
    "    iterations = 0\n",
    "    while e > 1e-3:\n",
    "        x_next = np.dot(np.linalg.inv(D + A_1), f - np.dot(A_2, x))\n",
    "        e = np.sqrt(np.abs(np.sum(x_next-x)))\n",
    "        x = x_next\n",
    "        iterations += 1\n",
    "    return x, iterations\n",
    "\n",
    "\n",
    "if __name__ == '__main__':\n",
    "    A = np.array([[2.979, 0.427, 0.406, 0.348],\n",
    "                 [0.273, 3.951, 0.217, 0.327],\n",
    "                 [0.318, 0.197, 2.875, 0.166],\n",
    "                 [0.219, 0.231, 0.187, 3.276]])\n",
    "    f = np.array([0.341, 0.844, 0.131, 0.381])\n",
    "    n = 4\n",
    "    x, iterations = zeidel_method(A, f, n)\n",
    "    print(x)\n",
    "    print(str(iterations) +  ' iterations')"
   ]
  },
  {
   "cell_type": "markdown",
   "metadata": {},
   "source": [
    "# Задание 2\n"
   ]
  },
  {
   "cell_type": "code",
   "execution_count": 39,
   "metadata": {},
   "outputs": [
    {
     "name": "stdout",
     "output_type": "stream",
     "text": [
      "Положительно определенная матрица\n",
      "[0.07209377 0.19965293 0.01834683 0.09635554]\n",
      "8 iterations\n",
      "Число обусловленности исходной матрицы: 1.6838209317100825\n",
      "Число обусловленности для переобусловленной матрицы: 1.4632234839281588\n",
      "[0.07209388 0.19965299 0.01834692 0.09635552]\n",
      "9 iterations\n"
     ]
    }
   ],
   "source": [
    "#метод сопряженных градиентов\n",
    "import numpy as np\n",
    "\n",
    "\n",
    "def pos(A, n):\n",
    "    for N in range(n+1):\n",
    "        minor = np.zeros((N, N))\n",
    "        for i in range(N):\n",
    "            for j in range(N):\n",
    "                minor[i][j] = A[i][j]\n",
    "        if np.linalg.det(minor) < 0:\n",
    "            return False\n",
    "    return True\n",
    "\n",
    "\n",
    "def conjugate_gradient_method(A, b, n):\n",
    "    x = np.ones(n)\n",
    "    r = b - np.dot(A, x)\n",
    "    z = r\n",
    "    iterations = 0\n",
    "    while np.linalg.norm(r)/np.linalg.norm(b) > 1e-6:\n",
    "        alpha = np.dot(r, r) / np.dot(np.dot(A, z), z)\n",
    "        x += np.dot(alpha, z)\n",
    "        r_next = r - np.dot(alpha, np.dot(A, z))\n",
    "        beta = np.dot(r_next, r_next) / np.dot(r, r)\n",
    "        z = r_next + np.dot(beta, z)\n",
    "        r = r_next\n",
    "        iterations += 1\n",
    "    return x, iterations\n",
    "\n",
    "\n",
    "if __name__ == '__main__':\n",
    "    A = np.array([[2.979, 0.427, 0.406, 0.348],\n",
    "                 [0.273, 3.951, 0.217, 0.327],\n",
    "                 [0.318, 0.197, 2.875, 0.166],\n",
    "                 [0.219, 0.231, 0.187, 3.276]])\n",
    "    b = np.array([0.341, 0.844, 0.131, 0.381])\n",
    "    n = 4\n",
    "    if pos(A,n):\n",
    "        print('Положительно определенная матрица')\n",
    "    else: print('Отрицательно определенная матрица')\n",
    "    x, iterations = conjugate_gradient_method(A, b, n)\n",
    "    print(x)\n",
    "    print(str(iterations) +  ' iterations')\n",
    "    \n",
    "    \n",
    "    print('Число обусловленности исходной матрицы: '+ str(np.linalg.cond(A)))\n",
    "    M = np.zeros((n, n))\n",
    "    for i in range(n):\n",
    "        M[i][i] = 1/np.max(A[i])\n",
    "    A = np.dot(M, A)\n",
    "    b = np.dot(M, b)\n",
    "    print('Число обусловленности для переобусловленной матрицы: ' + str(np.linalg.cond(A)))\n",
    "    x, iterations = conjugate_gradient_method(A, b, n)\n",
    "    print(x)\n",
    "    print(str(iterations) +  ' iterations')"
   ]
  },
  {
   "cell_type": "markdown",
   "metadata": {},
   "source": [
    "Вывод: если число обусловленности матрицы оказывается слишком большим (> 3), то метод сопряженных градиентов может\n",
    "    сходиться медленно, тогда нужно уменьшить число обусловленности матрицы, домножив на определенную матрицу(слева/справа).\n",
    "    В нашем случае изначально система является достаточно хорошо обусловленной и необходимости в уменьшении числа\n",
    "    обусловленности нет."
   ]
  },
  {
   "cell_type": "markdown",
   "metadata": {},
   "source": [
    "# Задание 3"
   ]
  },
  {
   "cell_type": "code",
   "execution_count": 2,
   "metadata": {},
   "outputs": [
    {
     "data": {
      "image/png": "[encoded data removed]",
      "text/plain": [
       "<Figure size 432x288 with 1 Axes>"
      ]
     },
     "metadata": {
      "needs_background": "light"
     },
     "output_type": "display_data"
    }
   ],
   "source": [
    "#матрица Гилберта\n",
    "import numpy as np\n",
    "import matplotlib.pyplot as plt\n",
    "import copy\n",
    "\n",
    "\n",
    "def inverse(A, n):\n",
    "    new_A = np.eye(n)\n",
    "    for i in range(0, n):\n",
    "        if A[i][i] != 0:\n",
    "            temp = A[i][i]\n",
    "            for j in range(i, n):\n",
    "                A[i][j] /= temp\n",
    "            new_A[i] /= temp\n",
    "            for I in range(i + 1, n):\n",
    "                temp = A[I][i]\n",
    "                for j in range(i, n):\n",
    "                    A[I][j] -= A[i][j] * temp\n",
    "                new_A[I] -= new_A[i] * temp\n",
    "    for i in range(n - 1, -1, -1):\n",
    "        for j in range(i + 1, n):\n",
    "            new_A[i] -= A[i][j] * new_A[j]\n",
    "            A[i][j] = 0\n",
    "    return new_A\n",
    "\n",
    "\n",
    "if __name__ == '__main__':\n",
    "    n = 70\n",
    "    result = []\n",
    "    for I in range(1, n):\n",
    "        hilbert_matrix = np.empty((I, I))\n",
    "        for i in range(1, I + 1):\n",
    "            for j in range(1, I + 1):\n",
    "                hilbert_matrix[i - 1][j - 1] = 1 / (i + j - 1)\n",
    "        inverse_matrix = inverse(copy.copy(hilbert_matrix), I)\n",
    "        new_hilbert_matrix = inverse(copy.copy(inverse_matrix), I)\n",
    "        result.append(np.linalg.norm(hilbert_matrix - new_hilbert_matrix))\n",
    "    Myplot = plt.plot(range(1, n), result)\n",
    "    plt.show()"
   ]
  },
  {
   "cell_type": "markdown",
   "metadata": {},
   "source": [
    "Вывод: с увеличением размера матрицы искомая норма медленно возрастает, однако на отдельных зачениях присутствует\n",
    "    резкий скачок."
   ]
  }
 ],
 "metadata": {
  "kernelspec": {
   "display_name": "Python 3",
   "language": "python",
   "name": "python3"
  },
  "language_info": {
   "codemirror_mode": {
    "name": "ipython",
    "version": 3
   },
   "file_extension": ".py",
   "mimetype": "text/x-python",
   "name": "python",
   "nbconvert_exporter": "python",
   "pygments_lexer": "ipython3",
   "version": "3.8.1"
  }
 },
 "nbformat": 4,
 "nbformat_minor": 2
}
