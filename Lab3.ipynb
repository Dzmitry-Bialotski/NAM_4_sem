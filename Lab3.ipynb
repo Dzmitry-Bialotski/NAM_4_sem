{
 "cells": [
  {
   "cell_type": "markdown",
   "metadata": {},
   "source": [
    "# Лабораторная работа №3 Белоцкий Дмитрий"
   ]
  },
  {
   "cell_type": "markdown",
   "metadata": {},
   "source": [
    "# Задание 1. "
   ]
  },
  {
   "cell_type": "markdown",
   "metadata": {},
   "source": [
    "Пусть матрица А является персимметрической матрицей.\n",
    "\n",
    "1) задайте матрицу  и, используя теорему Гершгорина, определите расположение собственных чисел матрицы (графически)."
   ]
  },
  {
   "cell_type": "code",
   "execution_count": 1,
   "metadata": {},
   "outputs": [],
   "source": [
    "import numpy as np\n",
    "import matplotlib.pyplot as plt\n",
    "import copy"
   ]
  },
  {
   "cell_type": "code",
   "execution_count": 2,
   "metadata": {},
   "outputs": [
    {
     "name": "stdout",
     "output_type": "stream",
     "text": [
      "[[ 1.  5.  6. -2. -1. -7.  0.]\n",
      " [ 5.  1. -4. -5. -1.  4. -7.]\n",
      " [ 6. -4.  8.  8. -6. -1. -1.]\n",
      " [-2. -5.  8.  6.  8. -5. -2.]\n",
      " [-1. -1. -6.  8.  8. -4.  6.]\n",
      " [-7.  4. -1. -5. -4.  1.  5.]\n",
      " [ 0. -7. -1. -2.  6.  5.  1.]]\n"
     ]
    },
    {
     "data": {
      "image/png": "[encoded data removed]",
      "text/plain": [
       "<Figure size 432x288 with 1 Axes>"
      ]
     },
     "metadata": {
      "needs_background": "light"
     },
     "output_type": "display_data"
    }
   ],
   "source": [
    "def persymmetric_matrix(n):\n",
    "    A = np.zeros([n, n])\n",
    "    for i in range(n//2 + 1):\n",
    "        for j in range(i, n-i):\n",
    "            A[i][j] = A[j][i] = A[n-i-1][n-j-1] = A[n-j-1][n-i-1] = np.random.randint(-9, 9)\n",
    "    return A\n",
    "\n",
    "\n",
    "def eigenvalues_location(A):\n",
    "    location = []\n",
    "    for i in range(np.shape(A)[0]//2+1):\n",
    "        center = np.abs(A[i][i])\n",
    "        radius = np.sum(np.abs(A[i]))-center\n",
    "        location.append((center, radius))\n",
    "    return location\n",
    "\n",
    "\n",
    "#A = persymmetric_matrix(7)\n",
    "A = np.array([[ 1.,  5.,  6., -2., -1., -7.,  0.],\n",
    "                  [ 5.,  1., -4., -5., -1.,  4., -7.],\n",
    "                  [ 6., -4.,  8.,  8., -6., -1., -1.],\n",
    "                  [-2., -5.,  8.,  6.,  8., -5., -2.],\n",
    "                  [-1., -1., -6.,  8. , 8. ,-4. , 6.],\n",
    "                  [-7. , 4. ,-1., -5., -4. , 1. , 5.],\n",
    "                  [ 0., -7., -1., -2.,  6.,  5.,  1.]])\n",
    "location = eigenvalues_location(A)\n",
    "fig, ax = plt.subplots()\n",
    "plt.xlim(-55, 55)\n",
    "plt.ylim(-40, 40)\n",
    "for (center, radius) in location:\n",
    "    ax.add_artist(plt.Circle((center, 0), radius, color='red', fill=False))\n",
    "print(A)\n",
    "plt.show()"
   ]
  },
  {
   "cell_type": "markdown",
   "metadata": {},
   "source": [
    "2) напишите функцию, позволяющую определить манимальное и максимальное собтсвенное значение персимметрической матрицы, и исследуйте сходимость предложенного решения."
   ]
  },
  {
   "cell_type": "code",
   "execution_count": 3,
   "metadata": {},
   "outputs": [
    {
     "name": "stdout",
     "output_type": "stream",
     "text": [
      "Метод сошелся за 29 итераций\n",
      "максимальное собственное значение:   20.52940651926952\n",
      "проверка:  20.529406545613448\n",
      "\n",
      "Метод сошелся за 5 итераций\n",
      "минимальное собственное значение:   0.07951843129443095\n",
      "проверка:  0.0795184312908567\n"
     ]
    }
   ],
   "source": [
    "def find_max_eig(A):\n",
    "    y = np.ones([np.shape(A)[0]])\n",
    "    eps = 1e-7\n",
    "    E = 1\n",
    "    iteration = 0\n",
    "    max_eig = 0\n",
    "    A_prev = copy.copy(A)\n",
    "    while E > eps:\n",
    "        A_prev = np.dot(A, A_prev)\n",
    "        A_next = np.dot(A, A_prev)\n",
    "        y_prev = np.dot(A_prev, np.transpose(y))\n",
    "        y_next = np.dot(A_next, np.transpose(y))\n",
    "        max_eigs = [y1/y2 for y1, y2 in zip(y_next, y_prev) if y2 != 0]\n",
    "        if max_eigs is []:\n",
    "            return 0\n",
    "        max_eig_next = np.sum(max_eigs)/len(max_eigs)\n",
    "        E = np.abs(max_eig_next - max_eig)\n",
    "        max_eig = max_eig_next\n",
    "        iteration += 1\n",
    "    print(\"Метод сошелся за {} итераций\".format(iteration))\n",
    "    return max_eig\n",
    "\n",
    "\n",
    "print(\"максимальное собственное значение:   \" + str(find_max_eig(A)))\n",
    "print(\"проверка:  \" + str(np.max(np.linalg.eig(A)[0]))+ '\\n')\n",
    "print(\"минимальное собственное значение:   \" + str(1/find_max_eig(np.linalg.inv(A))))\n",
    "print(\"проверка:  \" + str(np.min(np.abs(np.linalg.eig(A)[0]))))"
   ]
  },
  {
   "cell_type": "code",
   "execution_count": null,
   "metadata": {},
   "outputs": [],
   "source": [
    "3)Из соотношения Ax = lmbd * x следует что для матрицы A-4E собственные значения будут соответственно (lmbd-4).\n",
    "Заданная в условии матрица положительно определена, следовательно все собственные значения матрицы положительны.\n",
    "Используя теорему Гершгорина получим, что все значения находятся в интервале (0,4), таким образом собственные\n",
    "значения матрицы A-4E будут лежать в интервале (-4,0). Тогда если минимальное собственное значение матрицы A равно\n",
    "l, то модуль максимального значения матрицы A-4E будет (l-4), что и есть спектральный радиус."
   ]
  },
  {
   "cell_type": "markdown",
   "metadata": {},
   "source": [
    "# Задание 2."
   ]
  },
  {
   "cell_type": "code",
   "execution_count": 4,
   "metadata": {},
   "outputs": [
    {
     "name": "stdout",
     "output_type": "stream",
     "text": [
      "СОБСТВЕННЫЕ ЗНАЧЕНИЯ МАТРИЦЫ\n",
      "с помощью QR-разложения:    [1.1339746 1.5       2.        2.5       2.8660254]\n",
      "с помощью numpy:            [1.1339746 1.5       2.        2.5       2.8660254]\n",
      "точные значение по формуле: [1.1339745962155614, 1.5, 1.9999999999999998, 2.5, 2.866025403784439]\n",
      "погрешность вычисления: 2.879907550904109e-10\n"
     ]
    }
   ],
   "source": [
    "def tridiagonal_matrix(alpha, n):\n",
    "    A = np.zeros([n,n])\n",
    "    for i in range(n - 1):\n",
    "        A[i, i + 1] = -alpha\n",
    "    for i in range(1, n):\n",
    "        A[i, i - 1] = -alpha\n",
    "    for i in range(n):\n",
    "        A[i, i] = 1 + 2 * alpha\n",
    "    return A\n",
    "\n",
    "\n",
    "def Gram_Schmidt_method(matrix):\n",
    "    def projection(u, a):\n",
    "        return np.dot(u, a)/np.dot(u,u) * u\n",
    "    A = np.copy(matrix)\n",
    "    Q = np.empty(list(np.shape(A)))\n",
    "    U = [A[:,0]]\n",
    "    for i in range(1, np.shape(A)[0]):\n",
    "        tempU = A[:,i]\n",
    "        for j in range(0,i):\n",
    "            tempU -= projection(U[j], A[:,i])\n",
    "        U.append(tempU)\n",
    "    for i in range(np.shape(A)[0]):\n",
    "        Q[:,i] = U[i]/np.linalg.norm(U[i])\n",
    "    return Q\n",
    "\n",
    "\n",
    "def find_eigs(matrix):\n",
    "    A = np.copy(matrix)\n",
    "    eigs = np.ones([np.shape(A)[0]])\n",
    "    eps = 1e-10\n",
    "    E = 1\n",
    "    iterations = 0\n",
    "    while E > eps:\n",
    "        Q = Gram_Schmidt_method(A)\n",
    "        A = np.dot(np.dot(np.transpose(Q), A), Q)\n",
    "        E = np.sqrt(np.sum([(i-j)**2 for i, j in zip(np.diag(A), eigs)]))\n",
    "        eigs = np.diag(A)\n",
    "        iterations+=1\n",
    "    #print(\"сошелся за {} итераций\".format(iterations))\n",
    "    return eigs\n",
    "\n",
    "\n",
    "def right_eigs(alpha,n):\n",
    "    return [1+4*alpha*(np.sin(np.pi*i/(2*(n+1)))**2) for i in range(1,n+1)]\n",
    "\n",
    "\n",
    "if __name__ == '__main__':\n",
    "    A = tridiagonal_matrix(0.5, 5)\n",
    "    print(\"СОБСТВЕННЫЕ ЗНАЧЕНИЯ МАТРИЦЫ\")\n",
    "    print(\"с помощью QR-разложения:    \" + str(np.sort(find_eigs(A))))\n",
    "    print(\"с помощью numpy:            \" + str(np.sort(np.linalg.eig(A)[0])))\n",
    "    print(\"точные значение по формуле: \" + str(right_eigs(0.5, 5)))\n",
    "    print(\"погрешность вычисления: \" + \n",
    "          str(np.sqrt(np.sum([(i-j)**2 for i,j in zip(right_eigs(0.5, 5), np.sort(find_eigs(A)))]))))"
   ]
  },
  {
   "cell_type": "code",
   "execution_count": null,
   "metadata": {},
   "outputs": [],
   "source": [
    "2)Спектральный радиус матрицы, обратной данной, будет меньше единицы, если милимальное собственное значение \n",
    "исходной матрицы будет больше 1, что выполняется при любых значениях M, однако при M -> inf, минимальное \n",
    "собственное значениестремится к 1, т.е спектральный радиус будет стремиться к 1, чем больше M, тем хуже метод \n",
    "сходится, но он все еще будет сходиться при любом достаточно большом M."
   ]
  },
  {
   "cell_type": "markdown",
   "metadata": {},
   "source": [
    "# Задание 3."
   ]
  },
  {
   "cell_type": "markdown",
   "metadata": {},
   "source": [
    "Необхимо найти определитель матрицы. Определитель матрицы равен произведению собственных векторов."
   ]
  },
  {
   "cell_type": "code",
   "execution_count": 5,
   "metadata": {},
   "outputs": [
    {
     "name": "stdout",
     "output_type": "stream",
     "text": [
      "используя собственные значения: 24.374999999999993\n",
      "используя numpy: 24.375000000253603\n"
     ]
    }
   ],
   "source": [
    "def det(matrix):\n",
    "    eigs = find_eigs(matrix)\n",
    "    det = 1\n",
    "    for eig in eigs:\n",
    "        det *= eig\n",
    "    return det\n",
    "\n",
    "\n",
    "print(\"используя собственные значения: \" + str(np.linalg.det(A)))\n",
    "print(\"используя numpy: \" + str(det(A)))"
   ]
  },
  {
   "cell_type": "markdown",
   "metadata": {},
   "source": [
    "# Задание 4."
   ]
  },
  {
   "cell_type": "code",
   "execution_count": 6,
   "metadata": {},
   "outputs": [
    {
     "name": "stdout",
     "output_type": "stream",
     "text": [
      "   LP    nation   gender age  test1  test2  test3  test4  test5  test6  test7\n",
      "0  Y1        Y2       Y3  Y4     X1     X2     X3     X4     X5     X6     X7\n",
      "1   1  французы  женщина   6  77.14  65.71  82.86  82.86  85.71     20  77.14\n",
      "2   2  французы  женщина   6  68.57  62.86     80  91.43  88.57  17.14  74.29\n",
      "3   3  французы  мужчина   6  74.29  62.86     80  85.71  82.86  22.86  68.57\n",
      "4   4  французы  женщина   6  71.43  65.71  82.86  88.57  91.43  14.29  77.14\n"
     ]
    }
   ],
   "source": [
    "import pandas as pd\n",
    "data=pd.read_excel('/home/dimasiandro/Downloads/forPCAanalysis.xls')\n",
    "print(data[:5])"
   ]
  },
  {
   "cell_type": "code",
   "execution_count": null,
   "metadata": {},
   "outputs": [],
   "source": [
    "Ипользуем метод главных компонент для результатов 7 тестов (столбцов X1 - X7)\n",
    "    1)Сначала получим стандартизированную матрицу, для этого:\n",
    "        a) Вычислим среднее значения для каждого из столбцов, затем вычтем его (таким образом среднее значение \n",
    "            каждого столбца будет равно 0)\n",
    "        b) Далее каждый столбец нужно поделить на корень из суммы квадратов всех элементов соответствующего\n",
    "            столбца (таким образом стандартное отклонение для каждого столбца будет равно 1)\n",
    "    2)Получим ковариационную матрицу: умножим получившуюсь матрицу на ее транспонирование так,\n",
    "        чтобы получилась матрица размером 7x7\n",
    "    3)Для полученной матрицы вычислим собственные значения и собственные векторы методом вращений (метод Якоби)."
   ]
  },
  {
   "cell_type": "code",
   "execution_count": 2,
   "metadata": {},
   "outputs": [
    {
     "name": "stdout",
     "output_type": "stream",
     "text": [
      "   LP    nation   gender age  test1  test2  test3  test4  test5  test6  test7\n",
      "0  Y1        Y2       Y3  Y4     X1     X2     X3     X4     X5     X6     X7\n",
      "1   1  французы  женщина   6  77.14  65.71  82.86  82.86  85.71     20  77.14\n",
      "2   2  французы  женщина   6  68.57  62.86     80  91.43  88.57  17.14  74.29\n",
      "3   3  французы  мужчина   6  74.29  62.86     80  85.71  82.86  22.86  68.57\n",
      "4   4  французы  женщина   6  71.43  65.71  82.86  88.57  91.43  14.29  77.14\n",
      "Собственные векторы главных компонент: (array([-0.14272572,  0.053266  ,  0.48043425,  0.48284147,  0.49637828,\n",
      "       -0.49637791,  0.14162177]), array([ 0.50565118, -0.57061043,  0.06744052,  0.13077259,  0.09488891,\n",
      "       -0.09491339, -0.61567725]))\n",
      "Важности главных комопонент (0.5676971835423347, 0.24443571360340893)\n"
     ]
    }
   ],
   "source": [
    "import pandas as pd\n",
    "import math\n",
    "import numpy as np\n",
    "import copy\n",
    "\n",
    "\n",
    "def PCA(l):\n",
    "    def rotation_method(symmetric_matrix):\n",
    "        def max_value(a):\n",
    "            n = len(a)\n",
    "            max = 0.0\n",
    "            for i in range(n - 1):\n",
    "                for j in range(i + 1, n):\n",
    "                    if abs(a[i, j]) >= max:\n",
    "                        max = abs(a[i, j])\n",
    "                        x = i;\n",
    "                        y = j\n",
    "            return max, x, y\n",
    "\n",
    "        A = np.copy(symmetric_matrix)\n",
    "        eig_vecs = np.eye(np.shape(A)[0])\n",
    "        m = 1\n",
    "        while np.abs(m) > 1e-16:\n",
    "            m, i1, j1 = max_value(A)\n",
    "            alpha = (A[j1, j1] - A[i1, i1]) / (2 * A[i1, j1])\n",
    "            t = np.sign(alpha) / (np.abs(alpha) + np.sqrt(1 + alpha ** 2))\n",
    "            c = 1 / (np.sqrt(1 + t * t))\n",
    "            s = t / (np.sqrt(1 + t * t))\n",
    "            Q = np.eye(np.shape(A)[0])\n",
    "            Q[i1, i1] = c\n",
    "            Q[j1, j1] = c\n",
    "            Q[i1, j1] = -s\n",
    "            Q[j1, i1] = s\n",
    "            A = np.dot(np.dot(Q, A), np.transpose(Q))\n",
    "            A[i1, j1] = A[j1, i1] = 0\n",
    "            eig_vecs = np.dot(eig_vecs, np.transpose(Q))\n",
    "        eig_vals = [A[i][i] for i in range(np.shape(A)[0])]\n",
    "        return eig_vecs, eig_vals\n",
    "\n",
    "    list_x = copy.copy(l)\n",
    "    for x in list_x:\n",
    "        mean = 0\n",
    "        for i in range(1,643):\n",
    "            mean += x[i]\n",
    "        mean /= 642\n",
    "        for i in range(1,643):\n",
    "            x[i] -= mean\n",
    "        deviation = 0\n",
    "        for i in range(1,643):\n",
    "            deviation += x[i]**2\n",
    "        deviation = math.sqrt(deviation)\n",
    "        for i in range(1,643):\n",
    "            x[i] /= deviation\n",
    "    z = np.zeros([7, 642])\n",
    "    i = 0\n",
    "    for x in list_x:\n",
    "        z[:][i] = x[1:]\n",
    "        i += 1\n",
    "    # получили стандартизированную матрицу z\n",
    "    cov_matrix = np.dot(z, np.transpose(z))\n",
    "    # получили ковариационную матрицу\n",
    "    eig_vecs, eig_vals = rotation_method(cov_matrix)\n",
    "    # получили собственные векторы и собственные значения\n",
    "    main_components = []\n",
    "    sum_eig_vals = 0\n",
    "    for i in range(np.shape(eig_vals)[0]):\n",
    "        sum_eig_vals += eig_vals[i]\n",
    "    for i in range(np.shape(eig_vals)[0]):\n",
    "        if abs(eig_vals[i]) > 1:\n",
    "            main_components.append((eig_vals[i]/sum_eig_vals, eig_vecs[:, i]))\n",
    "    main_components = sorted(main_components, reverse=True)\n",
    "    return list(zip(*main_components)), z\n",
    "\n",
    "\n",
    "data=pd.read_excel('/home/dimasiandro/Downloads/forPCAanalysis.xls')\n",
    "print(data[:5])\n",
    "list_x = [data['test1'], data['test2'], data['test3'], data['test4'], data['test5'], data['test6'], data['test7']]\n",
    "nation = data['nation']\n",
    "gender = data['gender']\n",
    "age = data['age']\n",
    "\n",
    "main_components, z = PCA(list_x)\n",
    "print(\"Собственные векторы главных компонент: \" + str(main_components[1]))\n",
    "print(\"Важности главных комопонент \" + str(main_components[0]))"
   ]
  },
  {
   "cell_type": "code",
   "execution_count": null,
   "metadata": {},
   "outputs": [],
   "source": [
    "Первые 2 компонеты являются основными и формируют 80% от исходным 7 аргументов. В зависимости от пола, возраста и\n",
    "национальности значения этих двух компонент будут являтся определеяющими для общего результата всех тестов. По \n",
    "координатам собственных векторов можно отследить участие каждой из изначальных переменных в главных компонентах,\n",
    "так например чем выше окажутся значения 3-5 тестов тем выше окажется и значение главной компаненты. Чем выше \n",
    "окажется значения первого теста, тем ниже окажется значение 1 компаненты, но при это значительно увеличится \n",
    "значение 2 компаненты. В зависимости от того, что каждый из психологических тестов показывает, можем сделать\n",
    "вывод о том, на какие характеристики человека на самом деле указывают полученные нами компоненты."
   ]
  },
  {
   "cell_type": "code",
   "execution_count": 3,
   "metadata": {},
   "outputs": [
    {
     "name": "stdout",
     "output_type": "stream",
     "text": [
      "французы: \n",
      "   1компонента: 0.0065799823463664085\n",
      "   2компонента: -0.004819040419095411\n",
      "китайцы: \n",
      "   1компонента: -0.0038006403941380023\n",
      "   2компонента: 0.0027540163138463527\n",
      "мужчина: \n",
      "   1компонента: 0.0007262736957380026\n",
      "   2компонента: 0.001105901429505904\n",
      "женщина: \n",
      "   1компонента: -0.0006903445830684352\n",
      "   2компонента: -0.0009705812036706476\n",
      "Возраст 6 - 18 : : \n",
      "   1компонента: -0.0021577827236407155\n",
      "   2компонента: -0.0017671421286074621\n",
      "Возраст 19 - 30 : : \n",
      "   1компонента: 0.005645722029209356\n",
      "   2компонента: 0.004710231259035176\n"
     ]
    }
   ],
   "source": [
    "def check_importance(nation, nation_string, component_matrix_copy, matrix_z):\n",
    "    component_matrix = np.copy(component_matrix_copy)\n",
    "    counter = 0\n",
    "    for i in range(np.shape(matrix_z)[1]):\n",
    "        if nation[i] == nation_string:\n",
    "            counter += 1\n",
    "    z = np.zeros([7, counter])\n",
    "    j = 0\n",
    "    for i in range(np.shape(matrix_z)[1]):\n",
    "        if nation[i] == nation_string:\n",
    "            z[:, j] = matrix_z[:, i]\n",
    "            j += 1\n",
    "    P = np.dot(np.transpose(component_matrix), z)\n",
    "    component_values = []\n",
    "    print(nation_string + \": \")\n",
    "    for i in range(np.shape(P)[0]):\n",
    "        mean = 0\n",
    "        for j in range(np.shape(P)[1]):\n",
    "            mean += P[i][j]\n",
    "        mean /= np.shape(P)[1]\n",
    "        print(\"   \"+ str(i+1) + \"компонента: \" + str(mean))\n",
    "        component_values.append(mean)\n",
    "    return component_values\n",
    "\n",
    "\n",
    "def check_importance_age(nation, num1, num2, component_matrix_copy, matrix_z):\n",
    "    component_matrix = np.copy(component_matrix_copy)\n",
    "    counter = 0\n",
    "    for i in range(1,np.shape(matrix_z)[1]):\n",
    "        if num1 <= int(nation[i]) <= num2:\n",
    "            counter += 1\n",
    "    z = np.zeros([7, counter])\n",
    "    j = 0\n",
    "    for i in range(1,np.shape(matrix_z)[1]):\n",
    "        if num1 <= int(nation[i]) <= num2:\n",
    "            z[:, j] = matrix_z[:, i]\n",
    "            j += 1\n",
    "    P = np.dot(np.transpose(component_matrix), z)\n",
    "    component_values = []\n",
    "    print(\"Возраст {} - {} : \".format(num1,num2) + \": \")\n",
    "    for i in range(np.shape(P)[0]):\n",
    "        mean = 0\n",
    "        for j in range(np.shape(P)[1]):\n",
    "            mean += P[i][j]\n",
    "        mean /= np.shape(P)[1]\n",
    "        print(\"   \"+ str(i+1) + \"компонента: \" + str(mean))\n",
    "        component_values.append(mean)\n",
    "    return component_values\n",
    "\n",
    "component_matrix = np.empty([7, 2])\n",
    "for i in range(np.shape(main_components[1])[0]):\n",
    "    component_matrix[:,i] = main_components[1][i]\n",
    "\n",
    "importance_1 = check_importance(nation, 'французы', component_matrix, z)\n",
    "importance_2 = check_importance(nation, 'китайцы', component_matrix, z)\n",
    "\n",
    "importance_3 = check_importance(gender, 'мужчина', component_matrix, z)\n",
    "importance_4 = check_importance(gender, 'женщина', component_matrix, z)\n",
    "\n",
    "importance_5 = check_importance_age(age, 6, 18 , component_matrix, z)\n",
    "importance_6 = check_importance_age(age, 19, 30 , component_matrix, z)"
   ]
  },
  {
   "cell_type": "code",
   "execution_count": null,
   "metadata": {},
   "outputs": [],
   "source": [
    "Вывод: по полученным соотношениям компонент, которые между собой являются очевидно независимыми, мы можем сделать\n",
    "    вывод, что результаты сильно зависят от национальности (показатель 1 характеристики у французов выше, однако\n",
    "    по 2 характеристике выше наоборот китайцы(на 2 характеристику преимущественно влияют 1 и 7 тесты)).С полом\n",
    "    людей ситуация более очевидная, значения обеих компонент у мужчин оказались выше. Люди в возрасте 19-30 лет\n",
    "    в общем с психологическими тестами справились значительно лучше, чем люди в возрасте 6-18 лет"
   ]
  }
 ],
 "metadata": {
  "kernelspec": {
   "display_name": "Python 3",
   "language": "python",
   "name": "python3"
  },
  "language_info": {
   "codemirror_mode": {
    "name": "ipython",
    "version": 3
   },
   "file_extension": ".py",
   "mimetype": "text/x-python",
   "name": "python",
   "nbconvert_exporter": "python",
   "pygments_lexer": "ipython3",
   "version": "3.7.7"
  }
 },
 "nbformat": 4,
 "nbformat_minor": 2
}
